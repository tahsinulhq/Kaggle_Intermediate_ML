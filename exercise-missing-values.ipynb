{
 "cells": [
  {
   "cell_type": "markdown",
   "id": "liberal-ontario",
   "metadata": {
    "papermill": {
     "duration": 0.020432,
     "end_time": "2021-05-26T17:55:26.363375",
     "exception": false,
     "start_time": "2021-05-26T17:55:26.342943",
     "status": "completed"
    },
    "tags": []
   },
   "source": [
    "**This notebook is an exercise in the [Intermediate Machine Learning](https://www.kaggle.com/learn/intermediate-machine-learning) course.  You can reference the tutorial at [this link](https://www.kaggle.com/alexisbcook/missing-values).**\n",
    "\n",
    "---\n"
   ]
  },
  {
   "cell_type": "markdown",
   "id": "empirical-valley",
   "metadata": {
    "papermill": {
     "duration": 0.01885,
     "end_time": "2021-05-26T17:55:26.401593",
     "exception": false,
     "start_time": "2021-05-26T17:55:26.382743",
     "status": "completed"
    },
    "tags": []
   },
   "source": [
    "Now it's your turn to test your new knowledge of **missing values** handling. You'll probably find it makes a big difference.\n",
    "\n",
    "# Setup\n",
    "\n",
    "The questions will give you feedback on your work. Run the following cell to set up the feedback system."
   ]
  },
  {
   "cell_type": "code",
   "execution_count": 1,
   "id": "relevant-scratch",
   "metadata": {
    "execution": {
     "iopub.execute_input": "2021-05-26T17:55:26.446617Z",
     "iopub.status.busy": "2021-05-26T17:55:26.445996Z",
     "iopub.status.idle": "2021-05-26T17:55:26.494189Z",
     "shell.execute_reply": "2021-05-26T17:55:26.494695Z",
     "shell.execute_reply.started": "2021-05-26T17:07:34.198581Z"
    },
    "papermill": {
     "duration": 0.072872,
     "end_time": "2021-05-26T17:55:26.494988",
     "exception": false,
     "start_time": "2021-05-26T17:55:26.422116",
     "status": "completed"
    },
    "tags": []
   },
   "outputs": [
    {
     "name": "stdout",
     "output_type": "stream",
     "text": [
      "Setup Complete\n"
     ]
    }
   ],
   "source": [
    "# Set up code checking\n",
    "import os\n",
    "if not os.path.exists(\"../input/train.csv\"):\n",
    "    os.symlink(\"../input/home-data-for-ml-course/train.csv\", \"../input/train.csv\")  \n",
    "    os.symlink(\"../input/home-data-for-ml-course/test.csv\", \"../input/test.csv\") \n",
    "from learntools.core import binder\n",
    "binder.bind(globals())\n",
    "from learntools.ml_intermediate.ex2 import *\n",
    "print(\"Setup Complete\")"
   ]
  },
  {
   "cell_type": "markdown",
   "id": "floral-budget",
   "metadata": {
    "papermill": {
     "duration": 0.019197,
     "end_time": "2021-05-26T17:55:26.534271",
     "exception": false,
     "start_time": "2021-05-26T17:55:26.515074",
     "status": "completed"
    },
    "tags": []
   },
   "source": [
    "In this exercise, you will work with data from the [Housing Prices Competition for Kaggle Learn Users](https://www.kaggle.com/c/home-data-for-ml-course). \n",
    "\n",
    "![Ames Housing dataset image](https://i.imgur.com/lTJVG4e.png)\n",
    "\n",
    "Run the next code cell without changes to load the training and validation sets in `X_train`, `X_valid`, `y_train`, and `y_valid`.  The test set is loaded in `X_test`."
   ]
  },
  {
   "cell_type": "code",
   "execution_count": 2,
   "id": "concrete-civilian",
   "metadata": {
    "execution": {
     "iopub.execute_input": "2021-05-26T17:55:26.579674Z",
     "iopub.status.busy": "2021-05-26T17:55:26.579051Z",
     "iopub.status.idle": "2021-05-26T17:55:27.763941Z",
     "shell.execute_reply": "2021-05-26T17:55:27.763329Z",
     "shell.execute_reply.started": "2021-05-26T17:09:00.256948Z"
    },
    "papermill": {
     "duration": 1.21048,
     "end_time": "2021-05-26T17:55:27.764077",
     "exception": false,
     "start_time": "2021-05-26T17:55:26.553597",
     "status": "completed"
    },
    "tags": []
   },
   "outputs": [],
   "source": [
    "import pandas as pd\n",
    "from sklearn.model_selection import train_test_split\n",
    "\n",
    "# Read the data\n",
    "X_full = pd.read_csv('../input/train.csv', index_col='Id')\n",
    "X_test_full = pd.read_csv('../input/test.csv', index_col='Id')\n",
    "\n",
    "# Remove rows with missing target, separate target from predictors\n",
    "X_full.dropna(axis=0, subset=['SalePrice'], inplace=True)\n",
    "y = X_full.SalePrice\n",
    "X_full.drop(['SalePrice'], axis=1, inplace=True)\n",
    "\n",
    "# To keep things simple, we'll use only numerical predictors\n",
    "X = X_full.select_dtypes(exclude=['object'])\n",
    "X_test = X_test_full.select_dtypes(exclude=['object'])\n",
    "\n",
    "# Break off validation set from training data\n",
    "X_train, X_valid, y_train, y_valid = train_test_split(X, y, train_size=0.8, test_size=0.2,\n",
    "                                                      random_state=0)"
   ]
  },
  {
   "cell_type": "markdown",
   "id": "ongoing-injection",
   "metadata": {
    "papermill": {
     "duration": 0.019309,
     "end_time": "2021-05-26T17:55:27.803060",
     "exception": false,
     "start_time": "2021-05-26T17:55:27.783751",
     "status": "completed"
    },
    "tags": []
   },
   "source": [
    "Use the next code cell to print the first five rows of the data."
   ]
  },
  {
   "cell_type": "code",
   "execution_count": 3,
   "id": "cultural-ecuador",
   "metadata": {
    "execution": {
     "iopub.execute_input": "2021-05-26T17:55:27.850998Z",
     "iopub.status.busy": "2021-05-26T17:55:27.850113Z",
     "iopub.status.idle": "2021-05-26T17:55:27.876233Z",
     "shell.execute_reply": "2021-05-26T17:55:27.876671Z",
     "shell.execute_reply.started": "2021-05-26T17:09:11.968728Z"
    },
    "papermill": {
     "duration": 0.054105,
     "end_time": "2021-05-26T17:55:27.876857",
     "exception": false,
     "start_time": "2021-05-26T17:55:27.822752",
     "status": "completed"
    },
    "tags": []
   },
   "outputs": [
    {
     "data": {
      "text/html": [
       "<div>\n",
       "<style scoped>\n",
       "    .dataframe tbody tr th:only-of-type {\n",
       "        vertical-align: middle;\n",
       "    }\n",
       "\n",
       "    .dataframe tbody tr th {\n",
       "        vertical-align: top;\n",
       "    }\n",
       "\n",
       "    .dataframe thead th {\n",
       "        text-align: right;\n",
       "    }\n",
       "</style>\n",
       "<table border=\"1\" class=\"dataframe\">\n",
       "  <thead>\n",
       "    <tr style=\"text-align: right;\">\n",
       "      <th></th>\n",
       "      <th>MSSubClass</th>\n",
       "      <th>LotFrontage</th>\n",
       "      <th>LotArea</th>\n",
       "      <th>OverallQual</th>\n",
       "      <th>OverallCond</th>\n",
       "      <th>YearBuilt</th>\n",
       "      <th>YearRemodAdd</th>\n",
       "      <th>MasVnrArea</th>\n",
       "      <th>BsmtFinSF1</th>\n",
       "      <th>BsmtFinSF2</th>\n",
       "      <th>...</th>\n",
       "      <th>GarageArea</th>\n",
       "      <th>WoodDeckSF</th>\n",
       "      <th>OpenPorchSF</th>\n",
       "      <th>EnclosedPorch</th>\n",
       "      <th>3SsnPorch</th>\n",
       "      <th>ScreenPorch</th>\n",
       "      <th>PoolArea</th>\n",
       "      <th>MiscVal</th>\n",
       "      <th>MoSold</th>\n",
       "      <th>YrSold</th>\n",
       "    </tr>\n",
       "    <tr>\n",
       "      <th>Id</th>\n",
       "      <th></th>\n",
       "      <th></th>\n",
       "      <th></th>\n",
       "      <th></th>\n",
       "      <th></th>\n",
       "      <th></th>\n",
       "      <th></th>\n",
       "      <th></th>\n",
       "      <th></th>\n",
       "      <th></th>\n",
       "      <th></th>\n",
       "      <th></th>\n",
       "      <th></th>\n",
       "      <th></th>\n",
       "      <th></th>\n",
       "      <th></th>\n",
       "      <th></th>\n",
       "      <th></th>\n",
       "      <th></th>\n",
       "      <th></th>\n",
       "      <th></th>\n",
       "    </tr>\n",
       "  </thead>\n",
       "  <tbody>\n",
       "    <tr>\n",
       "      <th>619</th>\n",
       "      <td>20</td>\n",
       "      <td>90.0</td>\n",
       "      <td>11694</td>\n",
       "      <td>9</td>\n",
       "      <td>5</td>\n",
       "      <td>2007</td>\n",
       "      <td>2007</td>\n",
       "      <td>452.0</td>\n",
       "      <td>48</td>\n",
       "      <td>0</td>\n",
       "      <td>...</td>\n",
       "      <td>774</td>\n",
       "      <td>0</td>\n",
       "      <td>108</td>\n",
       "      <td>0</td>\n",
       "      <td>0</td>\n",
       "      <td>260</td>\n",
       "      <td>0</td>\n",
       "      <td>0</td>\n",
       "      <td>7</td>\n",
       "      <td>2007</td>\n",
       "    </tr>\n",
       "    <tr>\n",
       "      <th>871</th>\n",
       "      <td>20</td>\n",
       "      <td>60.0</td>\n",
       "      <td>6600</td>\n",
       "      <td>5</td>\n",
       "      <td>5</td>\n",
       "      <td>1962</td>\n",
       "      <td>1962</td>\n",
       "      <td>0.0</td>\n",
       "      <td>0</td>\n",
       "      <td>0</td>\n",
       "      <td>...</td>\n",
       "      <td>308</td>\n",
       "      <td>0</td>\n",
       "      <td>0</td>\n",
       "      <td>0</td>\n",
       "      <td>0</td>\n",
       "      <td>0</td>\n",
       "      <td>0</td>\n",
       "      <td>0</td>\n",
       "      <td>8</td>\n",
       "      <td>2009</td>\n",
       "    </tr>\n",
       "    <tr>\n",
       "      <th>93</th>\n",
       "      <td>30</td>\n",
       "      <td>80.0</td>\n",
       "      <td>13360</td>\n",
       "      <td>5</td>\n",
       "      <td>7</td>\n",
       "      <td>1921</td>\n",
       "      <td>2006</td>\n",
       "      <td>0.0</td>\n",
       "      <td>713</td>\n",
       "      <td>0</td>\n",
       "      <td>...</td>\n",
       "      <td>432</td>\n",
       "      <td>0</td>\n",
       "      <td>0</td>\n",
       "      <td>44</td>\n",
       "      <td>0</td>\n",
       "      <td>0</td>\n",
       "      <td>0</td>\n",
       "      <td>0</td>\n",
       "      <td>8</td>\n",
       "      <td>2009</td>\n",
       "    </tr>\n",
       "    <tr>\n",
       "      <th>818</th>\n",
       "      <td>20</td>\n",
       "      <td>NaN</td>\n",
       "      <td>13265</td>\n",
       "      <td>8</td>\n",
       "      <td>5</td>\n",
       "      <td>2002</td>\n",
       "      <td>2002</td>\n",
       "      <td>148.0</td>\n",
       "      <td>1218</td>\n",
       "      <td>0</td>\n",
       "      <td>...</td>\n",
       "      <td>857</td>\n",
       "      <td>150</td>\n",
       "      <td>59</td>\n",
       "      <td>0</td>\n",
       "      <td>0</td>\n",
       "      <td>0</td>\n",
       "      <td>0</td>\n",
       "      <td>0</td>\n",
       "      <td>7</td>\n",
       "      <td>2008</td>\n",
       "    </tr>\n",
       "    <tr>\n",
       "      <th>303</th>\n",
       "      <td>20</td>\n",
       "      <td>118.0</td>\n",
       "      <td>13704</td>\n",
       "      <td>7</td>\n",
       "      <td>5</td>\n",
       "      <td>2001</td>\n",
       "      <td>2002</td>\n",
       "      <td>150.0</td>\n",
       "      <td>0</td>\n",
       "      <td>0</td>\n",
       "      <td>...</td>\n",
       "      <td>843</td>\n",
       "      <td>468</td>\n",
       "      <td>81</td>\n",
       "      <td>0</td>\n",
       "      <td>0</td>\n",
       "      <td>0</td>\n",
       "      <td>0</td>\n",
       "      <td>0</td>\n",
       "      <td>1</td>\n",
       "      <td>2006</td>\n",
       "    </tr>\n",
       "  </tbody>\n",
       "</table>\n",
       "<p>5 rows × 36 columns</p>\n",
       "</div>"
      ],
      "text/plain": [
       "     MSSubClass  LotFrontage  LotArea  OverallQual  OverallCond  YearBuilt  \\\n",
       "Id                                                                           \n",
       "619          20         90.0    11694            9            5       2007   \n",
       "871          20         60.0     6600            5            5       1962   \n",
       "93           30         80.0    13360            5            7       1921   \n",
       "818          20          NaN    13265            8            5       2002   \n",
       "303          20        118.0    13704            7            5       2001   \n",
       "\n",
       "     YearRemodAdd  MasVnrArea  BsmtFinSF1  BsmtFinSF2  ...  GarageArea  \\\n",
       "Id                                                     ...               \n",
       "619          2007       452.0          48           0  ...         774   \n",
       "871          1962         0.0           0           0  ...         308   \n",
       "93           2006         0.0         713           0  ...         432   \n",
       "818          2002       148.0        1218           0  ...         857   \n",
       "303          2002       150.0           0           0  ...         843   \n",
       "\n",
       "     WoodDeckSF  OpenPorchSF  EnclosedPorch  3SsnPorch  ScreenPorch  PoolArea  \\\n",
       "Id                                                                              \n",
       "619           0          108              0          0          260         0   \n",
       "871           0            0              0          0            0         0   \n",
       "93            0            0             44          0            0         0   \n",
       "818         150           59              0          0            0         0   \n",
       "303         468           81              0          0            0         0   \n",
       "\n",
       "     MiscVal  MoSold  YrSold  \n",
       "Id                            \n",
       "619        0       7    2007  \n",
       "871        0       8    2009  \n",
       "93         0       8    2009  \n",
       "818        0       7    2008  \n",
       "303        0       1    2006  \n",
       "\n",
       "[5 rows x 36 columns]"
      ]
     },
     "execution_count": 3,
     "metadata": {},
     "output_type": "execute_result"
    }
   ],
   "source": [
    "X_train.head()"
   ]
  },
  {
   "cell_type": "markdown",
   "id": "suited-allocation",
   "metadata": {
    "papermill": {
     "duration": 0.019592,
     "end_time": "2021-05-26T17:55:27.916336",
     "exception": false,
     "start_time": "2021-05-26T17:55:27.896744",
     "status": "completed"
    },
    "tags": []
   },
   "source": [
    "You can already see a few missing values in the first several rows.  In the next step, you'll obtain a more comprehensive understanding of the missing values in the dataset.\n",
    "\n",
    "# Step 1: Preliminary investigation\n",
    "\n",
    "Run the code cell below without changes."
   ]
  },
  {
   "cell_type": "code",
   "execution_count": 4,
   "id": "organizational-arrest",
   "metadata": {
    "execution": {
     "iopub.execute_input": "2021-05-26T17:55:27.959688Z",
     "iopub.status.busy": "2021-05-26T17:55:27.958794Z",
     "iopub.status.idle": "2021-05-26T17:55:27.968212Z",
     "shell.execute_reply": "2021-05-26T17:55:27.967733Z",
     "shell.execute_reply.started": "2021-05-26T17:15:48.372051Z"
    },
    "papermill": {
     "duration": 0.032078,
     "end_time": "2021-05-26T17:55:27.968349",
     "exception": false,
     "start_time": "2021-05-26T17:55:27.936271",
     "status": "completed"
    },
    "tags": []
   },
   "outputs": [
    {
     "name": "stdout",
     "output_type": "stream",
     "text": [
      "(1168, 36)\n",
      "LotFrontage    212\n",
      "MasVnrArea       6\n",
      "GarageYrBlt     58\n",
      "dtype: int64\n"
     ]
    }
   ],
   "source": [
    "# Shape of training data (num_rows, num_columns)\n",
    "print(X_train.shape)\n",
    "\n",
    "# Number of missing values in each column of training data\n",
    "missing_val_count_by_column = (X_train.isnull().sum())\n",
    "print(missing_val_count_by_column[missing_val_count_by_column > 0])"
   ]
  },
  {
   "cell_type": "markdown",
   "id": "finished-reset",
   "metadata": {
    "papermill": {
     "duration": 0.020216,
     "end_time": "2021-05-26T17:55:28.008945",
     "exception": false,
     "start_time": "2021-05-26T17:55:27.988729",
     "status": "completed"
    },
    "tags": []
   },
   "source": [
    "### Part A\n",
    "\n",
    "Use the above output to answer the questions below."
   ]
  },
  {
   "cell_type": "code",
   "execution_count": 5,
   "id": "naughty-abuse",
   "metadata": {
    "execution": {
     "iopub.execute_input": "2021-05-26T17:55:28.055180Z",
     "iopub.status.busy": "2021-05-26T17:55:28.054521Z",
     "iopub.status.idle": "2021-05-26T17:55:28.059881Z",
     "shell.execute_reply": "2021-05-26T17:55:28.060312Z",
     "shell.execute_reply.started": "2021-05-26T17:17:37.784654Z"
    },
    "papermill": {
     "duration": 0.030705,
     "end_time": "2021-05-26T17:55:28.060469",
     "exception": false,
     "start_time": "2021-05-26T17:55:28.029764",
     "status": "completed"
    },
    "tags": []
   },
   "outputs": [
    {
     "data": {
      "application/javascript": [
       "parent.postMessage({\"jupyterEvent\": \"custom.exercise_interaction\", \"data\": {\"outcomeType\": 1, \"valueTowardsCompletion\": 1.0, \"interactionType\": 1, \"questionType\": 1, \"questionId\": \"1.1_InvestigateEquality\", \"learnToolsVersion\": \"0.3.4\", \"failureMessage\": \"\", \"exceptionClass\": \"\", \"trace\": \"\"}}, \"*\")"
      ],
      "text/plain": [
       "<IPython.core.display.Javascript object>"
      ]
     },
     "metadata": {},
     "output_type": "display_data"
    },
    {
     "data": {
      "text/markdown": [
       "<span style=\"color:#33cc33\">Correct</span>"
      ],
      "text/plain": [
       "Correct"
      ]
     },
     "metadata": {},
     "output_type": "display_data"
    }
   ],
   "source": [
    "# Fill in the line below: How many rows are in the training data?\n",
    "num_rows = 1168\n",
    "\n",
    "# Fill in the line below: How many columns in the training data\n",
    "# have missing values?\n",
    "num_cols_with_missing = 3\n",
    "\n",
    "# Fill in the line below: How many missing entries are contained in \n",
    "# all of the training data?\n",
    "tot_missing = 276\n",
    "\n",
    "# Check your answers\n",
    "step_1.a.check()"
   ]
  },
  {
   "cell_type": "code",
   "execution_count": 6,
   "id": "integrated-clock",
   "metadata": {
    "execution": {
     "iopub.execute_input": "2021-05-26T17:55:28.107788Z",
     "iopub.status.busy": "2021-05-26T17:55:28.106896Z",
     "iopub.status.idle": "2021-05-26T17:55:28.110449Z",
     "shell.execute_reply": "2021-05-26T17:55:28.109950Z"
    },
    "papermill": {
     "duration": 0.02856,
     "end_time": "2021-05-26T17:55:28.110596",
     "exception": false,
     "start_time": "2021-05-26T17:55:28.082036",
     "status": "completed"
    },
    "tags": []
   },
   "outputs": [],
   "source": [
    "# Lines below will give you a hint or solution code\n",
    "#step_1.a.hint()\n",
    "#step_1.a.solution()"
   ]
  },
  {
   "cell_type": "markdown",
   "id": "manual-closure",
   "metadata": {
    "papermill": {
     "duration": 0.02082,
     "end_time": "2021-05-26T17:55:28.153048",
     "exception": false,
     "start_time": "2021-05-26T17:55:28.132228",
     "status": "completed"
    },
    "tags": []
   },
   "source": [
    "### Part B\n",
    "Considering your answers above, what do you think is likely the best approach to dealing with the missing values?"
   ]
  },
  {
   "cell_type": "code",
   "execution_count": 7,
   "id": "palestinian-valve",
   "metadata": {
    "execution": {
     "iopub.execute_input": "2021-05-26T17:55:28.199978Z",
     "iopub.status.busy": "2021-05-26T17:55:28.199181Z",
     "iopub.status.idle": "2021-05-26T17:55:28.204070Z",
     "shell.execute_reply": "2021-05-26T17:55:28.203487Z",
     "shell.execute_reply.started": "2021-05-26T17:18:23.997207Z"
    },
    "papermill": {
     "duration": 0.030039,
     "end_time": "2021-05-26T17:55:28.204204",
     "exception": false,
     "start_time": "2021-05-26T17:55:28.174165",
     "status": "completed"
    },
    "tags": []
   },
   "outputs": [
    {
     "data": {
      "application/javascript": [
       "parent.postMessage({\"jupyterEvent\": \"custom.exercise_interaction\", \"data\": {\"outcomeType\": 1, \"valueTowardsCompletion\": 1.0, \"interactionType\": 1, \"questionType\": 4, \"questionId\": \"1.2_InvestigateThought\", \"learnToolsVersion\": \"0.3.4\", \"failureMessage\": \"\", \"exceptionClass\": \"\", \"trace\": \"\"}}, \"*\")"
      ],
      "text/plain": [
       "<IPython.core.display.Javascript object>"
      ]
     },
     "metadata": {},
     "output_type": "display_data"
    },
    {
     "data": {
      "text/markdown": [
       "<span style=\"color:#33cc33\">Correct:</span> \n",
       "\n",
       "Since there are relatively few missing entries in the data (the column with the greatest percentage of missing values is missing less than 20% of its entries), we can expect that dropping columns is unlikely to yield good results.  This is because we'd be throwing away a lot of valuable data, and so imputation will likely perform better."
      ],
      "text/plain": [
       "Correct: \n",
       "\n",
       "Since there are relatively few missing entries in the data (the column with the greatest percentage of missing values is missing less than 20% of its entries), we can expect that dropping columns is unlikely to yield good results.  This is because we'd be throwing away a lot of valuable data, and so imputation will likely perform better."
      ]
     },
     "metadata": {},
     "output_type": "display_data"
    }
   ],
   "source": [
    "# Check your answer (Run this code cell to receive credit!)\n",
    "step_1.b.check()"
   ]
  },
  {
   "cell_type": "code",
   "execution_count": 8,
   "id": "interpreted-rings",
   "metadata": {
    "execution": {
     "iopub.execute_input": "2021-05-26T17:55:28.251544Z",
     "iopub.status.busy": "2021-05-26T17:55:28.250990Z",
     "iopub.status.idle": "2021-05-26T17:55:28.252903Z",
     "shell.execute_reply": "2021-05-26T17:55:28.253296Z"
    },
    "papermill": {
     "duration": 0.027471,
     "end_time": "2021-05-26T17:55:28.253468",
     "exception": false,
     "start_time": "2021-05-26T17:55:28.225997",
     "status": "completed"
    },
    "tags": []
   },
   "outputs": [],
   "source": [
    "#step_1.b.hint()"
   ]
  },
  {
   "cell_type": "markdown",
   "id": "recognized-narrow",
   "metadata": {
    "papermill": {
     "duration": 0.021721,
     "end_time": "2021-05-26T17:55:28.297069",
     "exception": false,
     "start_time": "2021-05-26T17:55:28.275348",
     "status": "completed"
    },
    "tags": []
   },
   "source": [
    "To compare different approaches to dealing with missing values, you'll use the same `score_dataset()` function from the tutorial.  This function reports the [mean absolute error](https://en.wikipedia.org/wiki/Mean_absolute_error) (MAE) from a random forest model."
   ]
  },
  {
   "cell_type": "code",
   "execution_count": 9,
   "id": "electrical-forum",
   "metadata": {
    "execution": {
     "iopub.execute_input": "2021-05-26T17:55:28.346351Z",
     "iopub.status.busy": "2021-05-26T17:55:28.345697Z",
     "iopub.status.idle": "2021-05-26T17:55:28.574707Z",
     "shell.execute_reply": "2021-05-26T17:55:28.575135Z",
     "shell.execute_reply.started": "2021-05-26T17:19:27.366580Z"
    },
    "papermill": {
     "duration": 0.256149,
     "end_time": "2021-05-26T17:55:28.575315",
     "exception": false,
     "start_time": "2021-05-26T17:55:28.319166",
     "status": "completed"
    },
    "tags": []
   },
   "outputs": [],
   "source": [
    "from sklearn.ensemble import RandomForestRegressor\n",
    "from sklearn.metrics import mean_absolute_error\n",
    "\n",
    "# Function for comparing different approaches\n",
    "def score_dataset(X_train, X_valid, y_train, y_valid):\n",
    "    model = RandomForestRegressor(n_estimators=100, random_state=0)\n",
    "    model.fit(X_train, y_train)\n",
    "    preds = model.predict(X_valid)\n",
    "    return mean_absolute_error(y_valid, preds)"
   ]
  },
  {
   "cell_type": "markdown",
   "id": "personalized-heath",
   "metadata": {
    "papermill": {
     "duration": 0.021581,
     "end_time": "2021-05-26T17:55:28.618740",
     "exception": false,
     "start_time": "2021-05-26T17:55:28.597159",
     "status": "completed"
    },
    "tags": []
   },
   "source": [
    "# Step 2: Drop columns with missing values\n",
    "\n",
    "In this step, you'll preprocess the data in `X_train` and `X_valid` to remove columns with missing values.  Set the preprocessed DataFrames to `reduced_X_train` and `reduced_X_valid`, respectively.  "
   ]
  },
  {
   "cell_type": "code",
   "execution_count": 10,
   "id": "august-microphone",
   "metadata": {
    "execution": {
     "iopub.execute_input": "2021-05-26T17:55:28.665593Z",
     "iopub.status.busy": "2021-05-26T17:55:28.665024Z",
     "iopub.status.idle": "2021-05-26T17:55:28.688386Z",
     "shell.execute_reply": "2021-05-26T17:55:28.688796Z",
     "shell.execute_reply.started": "2021-05-26T17:23:59.837870Z"
    },
    "papermill": {
     "duration": 0.048743,
     "end_time": "2021-05-26T17:55:28.688998",
     "exception": false,
     "start_time": "2021-05-26T17:55:28.640255",
     "status": "completed"
    },
    "tags": []
   },
   "outputs": [
    {
     "data": {
      "application/javascript": [
       "parent.postMessage({\"jupyterEvent\": \"custom.exercise_interaction\", \"data\": {\"outcomeType\": 1, \"valueTowardsCompletion\": 1.0, \"interactionType\": 1, \"questionType\": 2, \"questionId\": \"2_DropMissing\", \"learnToolsVersion\": \"0.3.4\", \"failureMessage\": \"\", \"exceptionClass\": \"\", \"trace\": \"\"}}, \"*\")"
      ],
      "text/plain": [
       "<IPython.core.display.Javascript object>"
      ]
     },
     "metadata": {},
     "output_type": "display_data"
    },
    {
     "data": {
      "text/markdown": [
       "<span style=\"color:#33cc33\">Correct</span>"
      ],
      "text/plain": [
       "Correct"
      ]
     },
     "metadata": {},
     "output_type": "display_data"
    }
   ],
   "source": [
    "# Fill in the line below: get names of columns with missing values\n",
    "____ # Your code here\n",
    "cols_with_missing = [col for col in X_train.columns\n",
    "                    if X_train[col].isnull().any()]\n",
    "# Fill in the lines below: drop columns in training and validation data\n",
    "reduced_X_train = X_train.drop(cols_with_missing, axis =1)\n",
    "reduced_X_valid = X_valid.drop(cols_with_missing, axis =1)\n",
    "\n",
    "# Check your answers\n",
    "step_2.check()"
   ]
  },
  {
   "cell_type": "code",
   "execution_count": 11,
   "id": "suited-voluntary",
   "metadata": {
    "execution": {
     "iopub.execute_input": "2021-05-26T17:55:28.738297Z",
     "iopub.status.busy": "2021-05-26T17:55:28.737633Z",
     "iopub.status.idle": "2021-05-26T17:55:28.740369Z",
     "shell.execute_reply": "2021-05-26T17:55:28.740790Z"
    },
    "papermill": {
     "duration": 0.029005,
     "end_time": "2021-05-26T17:55:28.740961",
     "exception": false,
     "start_time": "2021-05-26T17:55:28.711956",
     "status": "completed"
    },
    "tags": []
   },
   "outputs": [],
   "source": [
    "# Lines below will give you a hint or solution code\n",
    "#step_2.hint()\n",
    "#step_2.solution()"
   ]
  },
  {
   "cell_type": "markdown",
   "id": "sapphire-kennedy",
   "metadata": {
    "papermill": {
     "duration": 0.02281,
     "end_time": "2021-05-26T17:55:28.786400",
     "exception": false,
     "start_time": "2021-05-26T17:55:28.763590",
     "status": "completed"
    },
    "tags": []
   },
   "source": [
    "Run the next code cell without changes to obtain the MAE for this approach."
   ]
  },
  {
   "cell_type": "code",
   "execution_count": 12,
   "id": "connected-profession",
   "metadata": {
    "execution": {
     "iopub.execute_input": "2021-05-26T17:55:28.835642Z",
     "iopub.status.busy": "2021-05-26T17:55:28.835047Z",
     "iopub.status.idle": "2021-05-26T17:55:29.912744Z",
     "shell.execute_reply": "2021-05-26T17:55:29.911652Z",
     "shell.execute_reply.started": "2021-05-26T17:24:07.357701Z"
    },
    "papermill": {
     "duration": 1.104088,
     "end_time": "2021-05-26T17:55:29.912954",
     "exception": false,
     "start_time": "2021-05-26T17:55:28.808866",
     "status": "completed"
    },
    "tags": []
   },
   "outputs": [
    {
     "name": "stdout",
     "output_type": "stream",
     "text": [
      "MAE (Drop columns with missing values):\n",
      "17837.82570776256\n"
     ]
    }
   ],
   "source": [
    "print(\"MAE (Drop columns with missing values):\")\n",
    "print(score_dataset(reduced_X_train, reduced_X_valid, y_train, y_valid))"
   ]
  },
  {
   "cell_type": "markdown",
   "id": "married-finland",
   "metadata": {
    "papermill": {
     "duration": 0.027394,
     "end_time": "2021-05-26T17:55:29.974606",
     "exception": false,
     "start_time": "2021-05-26T17:55:29.947212",
     "status": "completed"
    },
    "tags": []
   },
   "source": [
    "# Step 3: Imputation\n",
    "\n",
    "### Part A\n",
    "\n",
    "Use the next code cell to impute missing values with the mean value along each column.  Set the preprocessed DataFrames to `imputed_X_train` and `imputed_X_valid`.  Make sure that the column names match those in `X_train` and `X_valid`."
   ]
  },
  {
   "cell_type": "code",
   "execution_count": 13,
   "id": "radical-determination",
   "metadata": {
    "execution": {
     "iopub.execute_input": "2021-05-26T17:55:30.027582Z",
     "iopub.status.busy": "2021-05-26T17:55:30.026995Z",
     "iopub.status.idle": "2021-05-26T17:55:30.056370Z",
     "shell.execute_reply": "2021-05-26T17:55:30.055820Z",
     "shell.execute_reply.started": "2021-05-26T17:35:04.607728Z"
    },
    "papermill": {
     "duration": 0.058953,
     "end_time": "2021-05-26T17:55:30.056495",
     "exception": false,
     "start_time": "2021-05-26T17:55:29.997542",
     "status": "completed"
    },
    "tags": []
   },
   "outputs": [
    {
     "data": {
      "application/javascript": [
       "parent.postMessage({\"jupyterEvent\": \"custom.exercise_interaction\", \"data\": {\"outcomeType\": 1, \"valueTowardsCompletion\": 1.0, \"interactionType\": 1, \"questionType\": 2, \"questionId\": \"3.1_ImputeCode\", \"learnToolsVersion\": \"0.3.4\", \"failureMessage\": \"\", \"exceptionClass\": \"\", \"trace\": \"\"}}, \"*\")"
      ],
      "text/plain": [
       "<IPython.core.display.Javascript object>"
      ]
     },
     "metadata": {},
     "output_type": "display_data"
    },
    {
     "data": {
      "text/markdown": [
       "<span style=\"color:#33cc33\">Correct</span>"
      ],
      "text/plain": [
       "Correct"
      ]
     },
     "metadata": {},
     "output_type": "display_data"
    }
   ],
   "source": [
    "from sklearn.impute import SimpleImputer\n",
    "\n",
    "# Fill in the lines below: imputation\n",
    "____ # Your code here\n",
    "my_imputer = SimpleImputer()\n",
    "\n",
    "imputed_X_train = pd.DataFrame(my_imputer.fit_transform(X_train))\n",
    "imputed_X_valid = pd.DataFrame(my_imputer.transform(X_valid))\n",
    "\n",
    "# Fill in the lines below: imputation removed column names; put them back\n",
    "imputed_X_train.columns = X_train.columns\n",
    "imputed_X_valid.columns = X_valid.columns\n",
    "\n",
    "# Check your answers\n",
    "step_3.a.check()"
   ]
  },
  {
   "cell_type": "code",
   "execution_count": 14,
   "id": "sporting-virgin",
   "metadata": {
    "execution": {
     "iopub.execute_input": "2021-05-26T17:55:30.107939Z",
     "iopub.status.busy": "2021-05-26T17:55:30.107359Z",
     "iopub.status.idle": "2021-05-26T17:55:30.110574Z",
     "shell.execute_reply": "2021-05-26T17:55:30.110148Z"
    },
    "papermill": {
     "duration": 0.030368,
     "end_time": "2021-05-26T17:55:30.110709",
     "exception": false,
     "start_time": "2021-05-26T17:55:30.080341",
     "status": "completed"
    },
    "tags": []
   },
   "outputs": [],
   "source": [
    "# Lines below will give you a hint or solution code\n",
    "#step_3.a.hint()\n",
    "#step_3.a.solution()"
   ]
  },
  {
   "cell_type": "markdown",
   "id": "traditional-immunology",
   "metadata": {
    "papermill": {
     "duration": 0.024327,
     "end_time": "2021-05-26T17:55:30.159484",
     "exception": false,
     "start_time": "2021-05-26T17:55:30.135157",
     "status": "completed"
    },
    "tags": []
   },
   "source": [
    "Run the next code cell without changes to obtain the MAE for this approach."
   ]
  },
  {
   "cell_type": "code",
   "execution_count": 15,
   "id": "virgin-piano",
   "metadata": {
    "execution": {
     "iopub.execute_input": "2021-05-26T17:55:30.213648Z",
     "iopub.status.busy": "2021-05-26T17:55:30.213049Z",
     "iopub.status.idle": "2021-05-26T17:55:31.378466Z",
     "shell.execute_reply": "2021-05-26T17:55:31.379109Z",
     "shell.execute_reply.started": "2021-05-26T17:36:24.909623Z"
    },
    "papermill": {
     "duration": 1.196109,
     "end_time": "2021-05-26T17:55:31.379449",
     "exception": false,
     "start_time": "2021-05-26T17:55:30.183340",
     "status": "completed"
    },
    "tags": []
   },
   "outputs": [
    {
     "name": "stdout",
     "output_type": "stream",
     "text": [
      "MAE (Imputation):\n",
      "18062.894611872147\n"
     ]
    }
   ],
   "source": [
    "print(\"MAE (Imputation):\")\n",
    "print(score_dataset(imputed_X_train, imputed_X_valid, y_train, y_valid))"
   ]
  },
  {
   "cell_type": "markdown",
   "id": "conceptual-spelling",
   "metadata": {
    "papermill": {
     "duration": 0.024615,
     "end_time": "2021-05-26T17:55:31.429318",
     "exception": false,
     "start_time": "2021-05-26T17:55:31.404703",
     "status": "completed"
    },
    "tags": []
   },
   "source": [
    "### Part B\n",
    "\n",
    "Compare the MAE from each approach.  Does anything surprise you about the results?  Why do you think one approach performed better than the other?"
   ]
  },
  {
   "cell_type": "code",
   "execution_count": 16,
   "id": "micro-basement",
   "metadata": {
    "execution": {
     "iopub.execute_input": "2021-05-26T17:55:31.482316Z",
     "iopub.status.busy": "2021-05-26T17:55:31.481739Z",
     "iopub.status.idle": "2021-05-26T17:55:31.486122Z",
     "shell.execute_reply": "2021-05-26T17:55:31.485566Z",
     "shell.execute_reply.started": "2021-05-26T17:36:39.946008Z"
    },
    "papermill": {
     "duration": 0.032479,
     "end_time": "2021-05-26T17:55:31.486249",
     "exception": false,
     "start_time": "2021-05-26T17:55:31.453770",
     "status": "completed"
    },
    "tags": []
   },
   "outputs": [
    {
     "data": {
      "application/javascript": [
       "parent.postMessage({\"jupyterEvent\": \"custom.exercise_interaction\", \"data\": {\"outcomeType\": 1, \"valueTowardsCompletion\": 1.0, \"interactionType\": 1, \"questionType\": 4, \"questionId\": \"3.2_ImputeThought\", \"learnToolsVersion\": \"0.3.4\", \"failureMessage\": \"\", \"exceptionClass\": \"\", \"trace\": \"\"}}, \"*\")"
      ],
      "text/plain": [
       "<IPython.core.display.Javascript object>"
      ]
     },
     "metadata": {},
     "output_type": "display_data"
    },
    {
     "data": {
      "text/markdown": [
       "<span style=\"color:#33cc33\">Correct:</span> \n",
       "\n",
       "Given that thre are so few missing values in the dataset, we'd expect imputation to perform better than dropping columns entirely.  However, we see that dropping columns performs slightly better!  While this can probably partially be attributed to noise in the dataset, another potential explanation is that the imputation method is not a great match to this dataset.  That is, maybe instead of filling in the mean value, it makes more sense to set every missing value to a value of 0, to fill in the most frequently encountered value, or to use some other method.  For instance, consider the `GarageYrBlt` column (which indicates the year that the garage was built).  It's likely that in some cases, a missing value could indicate a house that does not have a garage.  Does it make more sense to fill in the median value along each column in this case?  Or could we get better results by filling in the minimum value along each column?  It's not quite clear what's best in this case, but perhaps we can rule out some options immediately - for instance, setting missing values in this column to 0 is likely to yield horrible results!"
      ],
      "text/plain": [
       "Correct: \n",
       "\n",
       "Given that thre are so few missing values in the dataset, we'd expect imputation to perform better than dropping columns entirely.  However, we see that dropping columns performs slightly better!  While this can probably partially be attributed to noise in the dataset, another potential explanation is that the imputation method is not a great match to this dataset.  That is, maybe instead of filling in the mean value, it makes more sense to set every missing value to a value of 0, to fill in the most frequently encountered value, or to use some other method.  For instance, consider the `GarageYrBlt` column (which indicates the year that the garage was built).  It's likely that in some cases, a missing value could indicate a house that does not have a garage.  Does it make more sense to fill in the median value along each column in this case?  Or could we get better results by filling in the minimum value along each column?  It's not quite clear what's best in this case, but perhaps we can rule out some options immediately - for instance, setting missing values in this column to 0 is likely to yield horrible results!"
      ]
     },
     "metadata": {},
     "output_type": "display_data"
    }
   ],
   "source": [
    "# Check your answer (Run this code cell to receive credit!)\n",
    "step_3.b.check()"
   ]
  },
  {
   "cell_type": "code",
   "execution_count": 17,
   "id": "surprised-communist",
   "metadata": {
    "execution": {
     "iopub.execute_input": "2021-05-26T17:55:31.541541Z",
     "iopub.status.busy": "2021-05-26T17:55:31.540934Z",
     "iopub.status.idle": "2021-05-26T17:55:31.546484Z",
     "shell.execute_reply": "2021-05-26T17:55:31.545967Z",
     "shell.execute_reply.started": "2021-05-26T17:37:25.708670Z"
    },
    "papermill": {
     "duration": 0.034941,
     "end_time": "2021-05-26T17:55:31.546614",
     "exception": false,
     "start_time": "2021-05-26T17:55:31.511673",
     "status": "completed"
    },
    "tags": []
   },
   "outputs": [
    {
     "data": {
      "application/javascript": [
       "parent.postMessage({\"jupyterEvent\": \"custom.exercise_interaction\", \"data\": {\"interactionType\": 2, \"questionType\": 4, \"questionId\": \"3.2_ImputeThought\", \"learnToolsVersion\": \"0.3.4\", \"valueTowardsCompletion\": 0.0, \"failureMessage\": \"\", \"exceptionClass\": \"\", \"trace\": \"\", \"outcomeType\": 4}}, \"*\")"
      ],
      "text/plain": [
       "<IPython.core.display.Javascript object>"
      ]
     },
     "metadata": {},
     "output_type": "display_data"
    },
    {
     "data": {
      "text/markdown": [
       "<span style=\"color:#3366cc\">Hint:</span> Did removing missing values yield a larger or smaller MAE than imputation? Does this agree with the coding example from the tutorial?"
      ],
      "text/plain": [
       "Hint: Did removing missing values yield a larger or smaller MAE than imputation? Does this agree with the coding example from the tutorial?"
      ]
     },
     "metadata": {},
     "output_type": "display_data"
    }
   ],
   "source": [
    "step_3.b.hint()"
   ]
  },
  {
   "cell_type": "markdown",
   "id": "productive-rating",
   "metadata": {
    "papermill": {
     "duration": 0.025644,
     "end_time": "2021-05-26T17:55:31.598030",
     "exception": false,
     "start_time": "2021-05-26T17:55:31.572386",
     "status": "completed"
    },
    "tags": []
   },
   "source": [
    "# Step 4: Generate test predictions\n",
    "\n",
    "In this final step, you'll use any approach of your choosing to deal with missing values.  Once you've preprocessed the training and validation features, you'll train and evaluate a random forest model.  Then, you'll preprocess the test data before generating predictions that can be submitted to the competition!\n",
    "\n",
    "### Part A\n",
    "\n",
    "Use the next code cell to preprocess the training and validation data.  Set the preprocessed DataFrames to `final_X_train` and `final_X_valid`.  **You can use any approach of your choosing here!**  in order for this step to be marked as correct, you need only ensure:\n",
    "- the preprocessed DataFrames have the same number of columns,\n",
    "- the preprocessed DataFrames have no missing values, \n",
    "- `final_X_train` and `y_train` have the same number of rows, and\n",
    "- `final_X_valid` and `y_valid` have the same number of rows."
   ]
  },
  {
   "cell_type": "code",
   "execution_count": 18,
   "id": "contrary-cause",
   "metadata": {
    "execution": {
     "iopub.execute_input": "2021-05-26T17:55:31.656611Z",
     "iopub.status.busy": "2021-05-26T17:55:31.655591Z",
     "iopub.status.idle": "2021-05-26T17:55:31.680538Z",
     "shell.execute_reply": "2021-05-26T17:55:31.681011Z",
     "shell.execute_reply.started": "2021-05-26T17:50:20.006664Z"
    },
    "papermill": {
     "duration": 0.057372,
     "end_time": "2021-05-26T17:55:31.681170",
     "exception": false,
     "start_time": "2021-05-26T17:55:31.623798",
     "status": "completed"
    },
    "tags": []
   },
   "outputs": [
    {
     "data": {
      "application/javascript": [
       "parent.postMessage({\"jupyterEvent\": \"custom.exercise_interaction\", \"data\": {\"outcomeType\": 1, \"valueTowardsCompletion\": 1.0, \"interactionType\": 1, \"questionType\": 2, \"questionId\": \"4.1_PredsCodeA\", \"learnToolsVersion\": \"0.3.4\", \"failureMessage\": \"\", \"exceptionClass\": \"\", \"trace\": \"\"}}, \"*\")"
      ],
      "text/plain": [
       "<IPython.core.display.Javascript object>"
      ]
     },
     "metadata": {},
     "output_type": "display_data"
    },
    {
     "data": {
      "text/markdown": [
       "<span style=\"color:#33cc33\">Correct</span>"
      ],
      "text/plain": [
       "Correct"
      ]
     },
     "metadata": {},
     "output_type": "display_data"
    }
   ],
   "source": [
    "# Preprocessed training and validation features\n",
    "final_imputer = SimpleImputer(strategy='median')\n",
    "final_X_train = pd.DataFrame(final_imputer.fit_transform(X_train))\n",
    "final_X_valid = pd.DataFrame(final_imputer.transform(X_valid))\n",
    "\n",
    "final_X_train.columns = X_train.columns\n",
    "final_X_valid.columns = X_valid.columns\n",
    "\n",
    "# Check your answers\n",
    "step_4.a.check()"
   ]
  },
  {
   "cell_type": "code",
   "execution_count": 19,
   "id": "surgical-grace",
   "metadata": {
    "execution": {
     "iopub.execute_input": "2021-05-26T17:55:31.739574Z",
     "iopub.status.busy": "2021-05-26T17:55:31.738962Z",
     "iopub.status.idle": "2021-05-26T17:55:31.742321Z",
     "shell.execute_reply": "2021-05-26T17:55:31.741756Z",
     "shell.execute_reply.started": "2021-05-26T17:49:26.256453Z"
    },
    "papermill": {
     "duration": 0.033805,
     "end_time": "2021-05-26T17:55:31.742448",
     "exception": false,
     "start_time": "2021-05-26T17:55:31.708643",
     "status": "completed"
    },
    "tags": []
   },
   "outputs": [],
   "source": [
    "# Lines below will give you a hint or solution code\n",
    "#step_4.a.hint()\n",
    "#step_4.a.solution()"
   ]
  },
  {
   "cell_type": "markdown",
   "id": "processed-latter",
   "metadata": {
    "papermill": {
     "duration": 0.026211,
     "end_time": "2021-05-26T17:55:31.795250",
     "exception": false,
     "start_time": "2021-05-26T17:55:31.769039",
     "status": "completed"
    },
    "tags": []
   },
   "source": [
    "Run the next code cell to train and evaluate a random forest model.  (*Note that we don't use the `score_dataset()` function above, because we will soon use the trained model to generate test predictions!*)"
   ]
  },
  {
   "cell_type": "code",
   "execution_count": 20,
   "id": "better-township",
   "metadata": {
    "execution": {
     "iopub.execute_input": "2021-05-26T17:55:31.859855Z",
     "iopub.status.busy": "2021-05-26T17:55:31.854334Z",
     "iopub.status.idle": "2021-05-26T17:55:33.021274Z",
     "shell.execute_reply": "2021-05-26T17:55:33.020654Z",
     "shell.execute_reply.started": "2021-05-26T17:50:22.504906Z"
    },
    "papermill": {
     "duration": 1.199565,
     "end_time": "2021-05-26T17:55:33.021416",
     "exception": false,
     "start_time": "2021-05-26T17:55:31.821851",
     "status": "completed"
    },
    "tags": []
   },
   "outputs": [
    {
     "name": "stdout",
     "output_type": "stream",
     "text": [
      "MAE (Your approach):\n",
      "17791.59899543379\n"
     ]
    }
   ],
   "source": [
    "# Define and fit model\n",
    "model = RandomForestRegressor(n_estimators=100, random_state=0)\n",
    "model.fit(final_X_train, y_train)\n",
    "\n",
    "# Get validation predictions and MAE\n",
    "preds_valid = model.predict(final_X_valid)\n",
    "print(\"MAE (Your approach):\")\n",
    "print(mean_absolute_error(y_valid, preds_valid))"
   ]
  },
  {
   "cell_type": "markdown",
   "id": "charged-lunch",
   "metadata": {
    "papermill": {
     "duration": 0.026218,
     "end_time": "2021-05-26T17:55:33.074148",
     "exception": false,
     "start_time": "2021-05-26T17:55:33.047930",
     "status": "completed"
    },
    "tags": []
   },
   "source": [
    "### Part B\n",
    "\n",
    "Use the next code cell to preprocess your test data.  Make sure that you use a method that agrees with how you preprocessed the training and validation data, and set the preprocessed test features to `final_X_test`.\n",
    "\n",
    "Then, use the preprocessed test features and the trained model to generate test predictions in `preds_test`.\n",
    "\n",
    "In order for this step to be marked correct, you need only ensure:\n",
    "- the preprocessed test DataFrame has no missing values, and\n",
    "- `final_X_test` has the same number of rows as `X_test`."
   ]
  },
  {
   "cell_type": "code",
   "execution_count": 21,
   "id": "fuzzy-chance",
   "metadata": {
    "execution": {
     "iopub.execute_input": "2021-05-26T17:55:33.133941Z",
     "iopub.status.busy": "2021-05-26T17:55:33.133305Z",
     "iopub.status.idle": "2021-05-26T17:55:33.177287Z",
     "shell.execute_reply": "2021-05-26T17:55:33.176767Z",
     "shell.execute_reply.started": "2021-05-26T17:53:46.283404Z"
    },
    "papermill": {
     "duration": 0.076621,
     "end_time": "2021-05-26T17:55:33.177420",
     "exception": false,
     "start_time": "2021-05-26T17:55:33.100799",
     "status": "completed"
    },
    "tags": []
   },
   "outputs": [
    {
     "data": {
      "application/javascript": [
       "parent.postMessage({\"jupyterEvent\": \"custom.exercise_interaction\", \"data\": {\"outcomeType\": 1, \"valueTowardsCompletion\": 1.0, \"interactionType\": 1, \"questionType\": 2, \"questionId\": \"4.2_PredsCodeB\", \"learnToolsVersion\": \"0.3.4\", \"failureMessage\": \"\", \"exceptionClass\": \"\", \"trace\": \"\"}}, \"*\")"
      ],
      "text/plain": [
       "<IPython.core.display.Javascript object>"
      ]
     },
     "metadata": {},
     "output_type": "display_data"
    },
    {
     "data": {
      "text/markdown": [
       "<span style=\"color:#33cc33\">Correct</span>"
      ],
      "text/plain": [
       "Correct"
      ]
     },
     "metadata": {},
     "output_type": "display_data"
    }
   ],
   "source": [
    "# Fill in the line below: preprocess test data\n",
    "final_X_test = pd.DataFrame(final_imputer.transform(X_test))\n",
    "\n",
    "# Fill in the line below: get test predictions\n",
    "preds_test = model.predict(final_X_test)\n",
    "\n",
    "# Check your answers\n",
    "step_4.b.check()"
   ]
  },
  {
   "cell_type": "code",
   "execution_count": 22,
   "id": "ongoing-shopper",
   "metadata": {
    "execution": {
     "iopub.execute_input": "2021-05-26T17:55:33.237915Z",
     "iopub.status.busy": "2021-05-26T17:55:33.237277Z",
     "iopub.status.idle": "2021-05-26T17:55:33.244917Z",
     "shell.execute_reply": "2021-05-26T17:55:33.244410Z",
     "shell.execute_reply.started": "2021-05-26T17:53:12.219987Z"
    },
    "papermill": {
     "duration": 0.03971,
     "end_time": "2021-05-26T17:55:33.245048",
     "exception": false,
     "start_time": "2021-05-26T17:55:33.205338",
     "status": "completed"
    },
    "tags": []
   },
   "outputs": [
    {
     "data": {
      "application/javascript": [
       "parent.postMessage({\"jupyterEvent\": \"custom.exercise_interaction\", \"data\": {\"interactionType\": 2, \"questionType\": 2, \"questionId\": \"4.2_PredsCodeB\", \"learnToolsVersion\": \"0.3.4\", \"valueTowardsCompletion\": 0.0, \"failureMessage\": \"\", \"exceptionClass\": \"\", \"trace\": \"\", \"outcomeType\": 4}}, \"*\")"
      ],
      "text/plain": [
       "<IPython.core.display.Javascript object>"
      ]
     },
     "metadata": {},
     "output_type": "display_data"
    },
    {
     "data": {
      "text/markdown": [
       "<span style=\"color:#3366cc\">Hint:</span> After preprocessing the test data, you can get the model's predictions by using `model.predict()`."
      ],
      "text/plain": [
       "Hint: After preprocessing the test data, you can get the model's predictions by using `model.predict()`."
      ]
     },
     "metadata": {},
     "output_type": "display_data"
    },
    {
     "data": {
      "application/javascript": [
       "parent.postMessage({\"jupyterEvent\": \"custom.exercise_interaction\", \"data\": {\"interactionType\": 3, \"questionType\": 2, \"questionId\": \"4.2_PredsCodeB\", \"learnToolsVersion\": \"0.3.4\", \"valueTowardsCompletion\": 0.0, \"failureMessage\": \"\", \"exceptionClass\": \"\", \"trace\": \"\", \"outcomeType\": 4}}, \"*\")"
      ],
      "text/plain": [
       "<IPython.core.display.Javascript object>"
      ]
     },
     "metadata": {},
     "output_type": "display_data"
    },
    {
     "data": {
      "text/markdown": [
       "<span style=\"color:#33cc99\">Solution:</span> \n",
       "```python\n",
       "# Preprocess test data\n",
       "final_X_test = pd.DataFrame(final_imputer.transform(X_test))\n",
       "\n",
       "# Get test predictions\n",
       "preds_test = model.predict(final_X_test)\n",
       "\n",
       "```"
      ],
      "text/plain": [
       "Solution: \n",
       "```python\n",
       "# Preprocess test data\n",
       "final_X_test = pd.DataFrame(final_imputer.transform(X_test))\n",
       "\n",
       "# Get test predictions\n",
       "preds_test = model.predict(final_X_test)\n",
       "\n",
       "```"
      ]
     },
     "metadata": {},
     "output_type": "display_data"
    }
   ],
   "source": [
    "# Lines below will give you a hint or solution code\n",
    "step_4.b.hint()\n",
    "step_4.b.solution()"
   ]
  },
  {
   "cell_type": "markdown",
   "id": "protecting-muslim",
   "metadata": {
    "papermill": {
     "duration": 0.028214,
     "end_time": "2021-05-26T17:55:33.302299",
     "exception": false,
     "start_time": "2021-05-26T17:55:33.274085",
     "status": "completed"
    },
    "tags": []
   },
   "source": [
    "Run the next code cell without changes to save your results to a CSV file that can be submitted directly to the competition."
   ]
  },
  {
   "cell_type": "code",
   "execution_count": 23,
   "id": "filled-curve",
   "metadata": {
    "execution": {
     "iopub.execute_input": "2021-05-26T17:55:33.365081Z",
     "iopub.status.busy": "2021-05-26T17:55:33.364213Z",
     "iopub.status.idle": "2021-05-26T17:55:33.372933Z",
     "shell.execute_reply": "2021-05-26T17:55:33.372423Z",
     "shell.execute_reply.started": "2021-05-26T17:54:04.285643Z"
    },
    "papermill": {
     "duration": 0.042103,
     "end_time": "2021-05-26T17:55:33.373067",
     "exception": false,
     "start_time": "2021-05-26T17:55:33.330964",
     "status": "completed"
    },
    "tags": []
   },
   "outputs": [],
   "source": [
    "# Save test predictions to file\n",
    "output = pd.DataFrame({'Id': X_test.index,\n",
    "                       'SalePrice': preds_test})\n",
    "output.to_csv('submission.csv', index=False)"
   ]
  },
  {
   "cell_type": "markdown",
   "id": "broad-catering",
   "metadata": {
    "papermill": {
     "duration": 0.02817,
     "end_time": "2021-05-26T17:55:33.430144",
     "exception": false,
     "start_time": "2021-05-26T17:55:33.401974",
     "status": "completed"
    },
    "tags": []
   },
   "source": [
    "# Submit your results\n",
    "\n",
    "Once you have successfully completed Step 4, you're ready to submit your results to the leaderboard!  (_You also learned how to do this in the previous exercise.  If you need a reminder of how to do this, please use the instructions below._)  \n",
    "\n",
    "First, you'll need to join the competition if you haven't already.  So open a new window by clicking on [this link](https://www.kaggle.com/c/home-data-for-ml-course).  Then click on the **Join Competition** button.\n",
    "\n",
    "![join competition image](https://i.imgur.com/wLmFtH3.png)\n",
    "\n",
    "Next, follow the instructions below:\n",
    "1. Begin by clicking on the blue **Save Version** button in the top right corner of the window.  This will generate a pop-up window.  \n",
    "2. Ensure that the **Save and Run All** option is selected, and then click on the blue **Save** button.\n",
    "3. This generates a window in the bottom left corner of the notebook.  After it has finished running, click on the number to the right of the **Save Version** button.  This pulls up a list of versions on the right of the screen.  Click on the ellipsis **(...)** to the right of the most recent version, and select **Open in Viewer**.  This brings you into view mode of the same page. You will need to scroll down to get back to these instructions.\n",
    "4. Click on the **Output** tab on the right of the screen.  Then, click on the file you would like to submit, and click on the blue **Submit** button to submit your results to the leaderboard.\n",
    "\n",
    "You have now successfully submitted to the competition!\n",
    "\n",
    "If you want to keep working to improve your performance, select the blue **Edit** button in the top right of the screen. Then you can change your code and repeat the process. There's a lot of room to improve, and you will climb up the leaderboard as you work.\n",
    "\n",
    "\n",
    "# Keep going\n",
    "\n",
    "Move on to learn what **[categorical variables](https://www.kaggle.com/alexisbcook/categorical-variables)** are, along with how to incorporate them into your machine learning models.  Categorical variables are very common in real-world data, but you'll get an error if you try to plug them into your models without processing them first!"
   ]
  },
  {
   "cell_type": "markdown",
   "id": "competitive-easter",
   "metadata": {
    "papermill": {
     "duration": 0.028286,
     "end_time": "2021-05-26T17:55:33.487552",
     "exception": false,
     "start_time": "2021-05-26T17:55:33.459266",
     "status": "completed"
    },
    "tags": []
   },
   "source": [
    "---\n",
    "\n",
    "\n",
    "\n",
    "\n",
    "*Have questions or comments? Visit the [Learn Discussion forum](https://www.kaggle.com/learn-forum/161289) to chat with other Learners.*"
   ]
  }
 ],
 "metadata": {
  "kernelspec": {
   "display_name": "Python 3",
   "language": "python",
   "name": "python3"
  },
  "language_info": {
   "codemirror_mode": {
    "name": "ipython",
    "version": 3
   },
   "file_extension": ".py",
   "mimetype": "text/x-python",
   "name": "python",
   "nbconvert_exporter": "python",
   "pygments_lexer": "ipython3",
   "version": "3.7.9"
  },
  "papermill": {
   "default_parameters": {},
   "duration": 13.264702,
   "end_time": "2021-05-26T17:55:34.126462",
   "environment_variables": {},
   "exception": null,
   "input_path": "__notebook__.ipynb",
   "output_path": "__notebook__.ipynb",
   "parameters": {},
   "start_time": "2021-05-26T17:55:20.861760",
   "version": "2.3.2"
  }
 },
 "nbformat": 4,
 "nbformat_minor": 5
}
